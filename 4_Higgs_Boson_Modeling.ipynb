{
  "nbformat": 4,
  "nbformat_minor": 0,
  "metadata": {
    "colab": {
      "name": "4_Higgs_Boson_Modeling.ipynb",
      "provenance": [],
      "collapsed_sections": [],
      "include_colab_link": true
    },
    "kernelspec": {
      "name": "python3",
      "display_name": "Python 3"
    },
    "language_info": {
      "name": "python"
    }
  },
  "cells": [
    {
      "cell_type": "markdown",
      "metadata": {
        "id": "view-in-github",
        "colab_type": "text"
      },
      "source": [
        "<a href=\"https://colab.research.google.com/github/sureshmecad/Higgs-Boson-Decay-TMLC/blob/main/4_Higgs_Boson_Modeling.ipynb\" target=\"_parent\"><img src=\"https://colab.research.google.com/assets/colab-badge.svg\" alt=\"Open In Colab\"/></a>"
      ]
    },
    {
      "cell_type": "markdown",
      "metadata": {
        "id": "9ezxVqF-B3YF"
      },
      "source": [
        "#### **Approach 01:**\n",
        " - selected 10 features\n",
        "\n",
        " - df['DER_mass_MMC'] = df['DER_mass_MMC'].replace(-999.0, np.nan) ---> **Replace -999.0 with NaN**\n",
        " \n",
        " - df['DER_mass_MMC'] = df['DER_mass_MMC'].fillna(df['DER_mass_MMC'].median()) ---> **Replace NaN with median**"
      ]
    },
    {
      "cell_type": "markdown",
      "metadata": {
        "id": "lr7MP0zSCiha"
      },
      "source": [
        "#### **Approach 02:**\n",
        " - selected 10 features\n",
        "\n",
        " - df['DER_mass_MMC'] = df['DER_mass_MMC'].replace(-999.0, np.nan) ---> **Replace -999.0 with NaN**\n",
        " \n",
        " - df['DER_mass_MMC'] = df['DER_mass_MMC'].fillna(df['DER_mass_MMC'].median()) ---> **Replace NaN with median**\n",
        "\n",
        " -------------------\n",
        "\n",
        " - cols = [\"DER_mass_transverse_met_lep\", \"DER_met_phi_centrality\", \"DER_pt_h\"]\n",
        " \n",
        "   df[cols] = df[cols].replace(['0', 0], np.nan) ---> **Replace Zeros with NaN**\n",
        "\n",
        " - df['DER_mass_transverse_met_lep'] = df['DER_mass_transverse_met_lep'].fillna(df['DER_mass_transverse_met_lep'].median())\n",
        "\n",
        "   df['DER_met_phi_centrality'] = df['DER_met_phi_centrality'].fillna(df['DER_met_phi_centrality'].median())\n",
        "\n",
        "  df['DER_pt_h'] = df['DER_pt_h'].fillna(df['DER_pt_h'].median()) ---> **Replace NaN with median**"
      ]
    },
    {
      "cell_type": "markdown",
      "metadata": {
        "id": "JxpI591TDVpK"
      },
      "source": [
        "### **Approach 02 given better results**"
      ]
    },
    {
      "cell_type": "markdown",
      "metadata": {
        "id": "ILKwXVbODgxZ"
      },
      "source": [
        "----------------------------"
      ]
    },
    {
      "cell_type": "markdown",
      "metadata": {
        "id": "hmviIQMhCk13"
      },
      "source": [
        "### **1) Import Libraries**"
      ]
    },
    {
      "cell_type": "code",
      "metadata": {
        "id": "W-WtFWvB2CTu"
      },
      "source": [
        "# Read Data\n",
        "import numpy as np                     # Linear Algebra (calculate the mean and standard deviation)\n",
        "import pandas as pd                    # manipulate data, data processing, load csv file I/O (e.g. pd.read_csv)\n",
        "\n",
        "# Visualization\n",
        "import seaborn as sns                  # Visualization using seaborn\n",
        "import matplotlib.pyplot as plt        # Visualization using matplotlib\n",
        "%matplotlib inline\n",
        "\n",
        "# style\n",
        "plt.style.use(\"fivethirtyeight\")       # Set Graphs Background style using matplotlib\n",
        "sns.set_style(\"darkgrid\")              # Set Graphs Background style using seaborn\n",
        "\n",
        "import warnings                        # Ignore Warnings\n",
        "warnings.filterwarnings(\"ignore\")"
      ],
      "execution_count": 1,
      "outputs": []
    },
    {
      "cell_type": "code",
      "metadata": {
        "id": "2yOEpReDBGDE"
      },
      "source": [
        "import scipy.stats as stats"
      ],
      "execution_count": 2,
      "outputs": []
    },
    {
      "cell_type": "code",
      "metadata": {
        "id": "e2sPuAE9CtRZ"
      },
      "source": [
        "from sklearn.model_selection import train_test_split\n",
        "from sklearn.metrics import accuracy_score, confusion_matrix, classification_report, cohen_kappa_score\n",
        "\n",
        "from sklearn.preprocessing import LabelEncoder\n",
        "\n",
        "from sklearn.ensemble import RandomForestClassifier\n",
        "from sklearn.tree import DecisionTreeClassifier\n",
        "from sklearn.naive_bayes import MultinomialNB\n",
        "from sklearn.neighbors import KNeighborsClassifier\n",
        "from sklearn.ensemble import AdaBoostClassifier\n",
        "import xgboost as xgb\n",
        "from xgboost import XGBClassifier, plot_importance\n",
        "from lightgbm import LGBMClassifier, plot_importance\n",
        "from sklearn.naive_bayes import GaussianNB"
      ],
      "execution_count": 3,
      "outputs": []
    },
    {
      "cell_type": "markdown",
      "metadata": {
        "id": "O0vpzLgMCk0a"
      },
      "source": [
        "#### **2) Import Data And Preprocessing**"
      ]
    },
    {
      "cell_type": "code",
      "metadata": {
        "colab": {
          "base_uri": "https://localhost:8080/"
        },
        "id": "bROlEYN4C3qq",
        "outputId": "901ecdb7-ee2b-43fb-b2ff-96d92fb1862a"
      },
      "source": [
        "from google.colab import drive\n",
        "drive.mount('/content/drive')"
      ],
      "execution_count": 4,
      "outputs": [
        {
          "output_type": "stream",
          "text": [
            "Drive already mounted at /content/drive; to attempt to forcibly remount, call drive.mount(\"/content/drive\", force_remount=True).\n"
          ],
          "name": "stdout"
        }
      ]
    },
    {
      "cell_type": "code",
      "metadata": {
        "id": "2MZ-sCziC_aF"
      },
      "source": [
        "Higgs = pd.read_csv(\"/content/drive/MyDrive/TMLC/Higgs-Boson.zip\")"
      ],
      "execution_count": 5,
      "outputs": []
    },
    {
      "cell_type": "code",
      "metadata": {
        "colab": {
          "base_uri": "https://localhost:8080/",
          "height": 284
        },
        "id": "EyppMgzXC_Wk",
        "outputId": "eb5eb60e-7d1d-45d5-e489-fabd7f469634"
      },
      "source": [
        "display(Higgs.head(3))\n",
        "display(Higgs.tail(3))"
      ],
      "execution_count": 6,
      "outputs": [
        {
          "output_type": "display_data",
          "data": {
            "text/html": [
              "<div>\n",
              "<style scoped>\n",
              "    .dataframe tbody tr th:only-of-type {\n",
              "        vertical-align: middle;\n",
              "    }\n",
              "\n",
              "    .dataframe tbody tr th {\n",
              "        vertical-align: top;\n",
              "    }\n",
              "\n",
              "    .dataframe thead th {\n",
              "        text-align: right;\n",
              "    }\n",
              "</style>\n",
              "<table border=\"1\" class=\"dataframe\">\n",
              "  <thead>\n",
              "    <tr style=\"text-align: right;\">\n",
              "      <th></th>\n",
              "      <th>EventId</th>\n",
              "      <th>DER_mass_MMC</th>\n",
              "      <th>DER_mass_transverse_met_lep</th>\n",
              "      <th>DER_mass_vis</th>\n",
              "      <th>DER_pt_h</th>\n",
              "      <th>DER_deltaeta_jet_jet</th>\n",
              "      <th>DER_mass_jet_jet</th>\n",
              "      <th>DER_prodeta_jet_jet</th>\n",
              "      <th>DER_deltar_tau_lep</th>\n",
              "      <th>DER_pt_tot</th>\n",
              "      <th>DER_sum_pt</th>\n",
              "      <th>DER_pt_ratio_lep_tau</th>\n",
              "      <th>DER_met_phi_centrality</th>\n",
              "      <th>DER_lep_eta_centrality</th>\n",
              "      <th>PRI_tau_pt</th>\n",
              "      <th>PRI_tau_eta</th>\n",
              "      <th>PRI_tau_phi</th>\n",
              "      <th>PRI_lep_pt</th>\n",
              "      <th>PRI_lep_eta</th>\n",
              "      <th>PRI_lep_phi</th>\n",
              "      <th>PRI_met</th>\n",
              "      <th>PRI_met_phi</th>\n",
              "      <th>PRI_met_sumet</th>\n",
              "      <th>PRI_jet_num</th>\n",
              "      <th>PRI_jet_leading_pt</th>\n",
              "      <th>PRI_jet_leading_eta</th>\n",
              "      <th>PRI_jet_leading_phi</th>\n",
              "      <th>PRI_jet_subleading_pt</th>\n",
              "      <th>PRI_jet_subleading_eta</th>\n",
              "      <th>PRI_jet_subleading_phi</th>\n",
              "      <th>PRI_jet_all_pt</th>\n",
              "      <th>Weight</th>\n",
              "      <th>Label</th>\n",
              "    </tr>\n",
              "  </thead>\n",
              "  <tbody>\n",
              "    <tr>\n",
              "      <th>0</th>\n",
              "      <td>100000</td>\n",
              "      <td>138.470</td>\n",
              "      <td>51.655</td>\n",
              "      <td>97.827</td>\n",
              "      <td>27.980</td>\n",
              "      <td>0.91</td>\n",
              "      <td>124.711</td>\n",
              "      <td>2.666</td>\n",
              "      <td>3.064</td>\n",
              "      <td>41.928</td>\n",
              "      <td>197.760</td>\n",
              "      <td>1.582</td>\n",
              "      <td>1.396</td>\n",
              "      <td>0.2</td>\n",
              "      <td>32.638</td>\n",
              "      <td>1.017</td>\n",
              "      <td>0.381</td>\n",
              "      <td>51.626</td>\n",
              "      <td>2.273</td>\n",
              "      <td>-2.414</td>\n",
              "      <td>16.824</td>\n",
              "      <td>-0.277</td>\n",
              "      <td>258.733</td>\n",
              "      <td>2</td>\n",
              "      <td>67.435</td>\n",
              "      <td>2.150</td>\n",
              "      <td>0.444</td>\n",
              "      <td>46.062</td>\n",
              "      <td>1.24</td>\n",
              "      <td>-2.475</td>\n",
              "      <td>113.497</td>\n",
              "      <td>0.002653</td>\n",
              "      <td>s</td>\n",
              "    </tr>\n",
              "    <tr>\n",
              "      <th>1</th>\n",
              "      <td>100001</td>\n",
              "      <td>160.937</td>\n",
              "      <td>68.768</td>\n",
              "      <td>103.235</td>\n",
              "      <td>48.146</td>\n",
              "      <td>-999.00</td>\n",
              "      <td>-999.000</td>\n",
              "      <td>-999.000</td>\n",
              "      <td>3.473</td>\n",
              "      <td>2.078</td>\n",
              "      <td>125.157</td>\n",
              "      <td>0.879</td>\n",
              "      <td>1.414</td>\n",
              "      <td>-999.0</td>\n",
              "      <td>42.014</td>\n",
              "      <td>2.039</td>\n",
              "      <td>-3.011</td>\n",
              "      <td>36.918</td>\n",
              "      <td>0.501</td>\n",
              "      <td>0.103</td>\n",
              "      <td>44.704</td>\n",
              "      <td>-1.916</td>\n",
              "      <td>164.546</td>\n",
              "      <td>1</td>\n",
              "      <td>46.226</td>\n",
              "      <td>0.725</td>\n",
              "      <td>1.158</td>\n",
              "      <td>-999.000</td>\n",
              "      <td>-999.00</td>\n",
              "      <td>-999.000</td>\n",
              "      <td>46.226</td>\n",
              "      <td>2.233584</td>\n",
              "      <td>b</td>\n",
              "    </tr>\n",
              "    <tr>\n",
              "      <th>2</th>\n",
              "      <td>100002</td>\n",
              "      <td>-999.000</td>\n",
              "      <td>162.172</td>\n",
              "      <td>125.953</td>\n",
              "      <td>35.635</td>\n",
              "      <td>-999.00</td>\n",
              "      <td>-999.000</td>\n",
              "      <td>-999.000</td>\n",
              "      <td>3.148</td>\n",
              "      <td>9.336</td>\n",
              "      <td>197.814</td>\n",
              "      <td>3.776</td>\n",
              "      <td>1.414</td>\n",
              "      <td>-999.0</td>\n",
              "      <td>32.154</td>\n",
              "      <td>-0.705</td>\n",
              "      <td>-2.093</td>\n",
              "      <td>121.409</td>\n",
              "      <td>-0.953</td>\n",
              "      <td>1.052</td>\n",
              "      <td>54.283</td>\n",
              "      <td>-2.186</td>\n",
              "      <td>260.414</td>\n",
              "      <td>1</td>\n",
              "      <td>44.251</td>\n",
              "      <td>2.053</td>\n",
              "      <td>-2.028</td>\n",
              "      <td>-999.000</td>\n",
              "      <td>-999.00</td>\n",
              "      <td>-999.000</td>\n",
              "      <td>44.251</td>\n",
              "      <td>2.347389</td>\n",
              "      <td>b</td>\n",
              "    </tr>\n",
              "  </tbody>\n",
              "</table>\n",
              "</div>"
            ],
            "text/plain": [
              "   EventId  DER_mass_MMC  ...    Weight  Label\n",
              "0   100000       138.470  ...  0.002653      s\n",
              "1   100001       160.937  ...  2.233584      b\n",
              "2   100002      -999.000  ...  2.347389      b\n",
              "\n",
              "[3 rows x 33 columns]"
            ]
          },
          "metadata": {}
        },
        {
          "output_type": "display_data",
          "data": {
            "text/html": [
              "<div>\n",
              "<style scoped>\n",
              "    .dataframe tbody tr th:only-of-type {\n",
              "        vertical-align: middle;\n",
              "    }\n",
              "\n",
              "    .dataframe tbody tr th {\n",
              "        vertical-align: top;\n",
              "    }\n",
              "\n",
              "    .dataframe thead th {\n",
              "        text-align: right;\n",
              "    }\n",
              "</style>\n",
              "<table border=\"1\" class=\"dataframe\">\n",
              "  <thead>\n",
              "    <tr style=\"text-align: right;\">\n",
              "      <th></th>\n",
              "      <th>EventId</th>\n",
              "      <th>DER_mass_MMC</th>\n",
              "      <th>DER_mass_transverse_met_lep</th>\n",
              "      <th>DER_mass_vis</th>\n",
              "      <th>DER_pt_h</th>\n",
              "      <th>DER_deltaeta_jet_jet</th>\n",
              "      <th>DER_mass_jet_jet</th>\n",
              "      <th>DER_prodeta_jet_jet</th>\n",
              "      <th>DER_deltar_tau_lep</th>\n",
              "      <th>DER_pt_tot</th>\n",
              "      <th>DER_sum_pt</th>\n",
              "      <th>DER_pt_ratio_lep_tau</th>\n",
              "      <th>DER_met_phi_centrality</th>\n",
              "      <th>DER_lep_eta_centrality</th>\n",
              "      <th>PRI_tau_pt</th>\n",
              "      <th>PRI_tau_eta</th>\n",
              "      <th>PRI_tau_phi</th>\n",
              "      <th>PRI_lep_pt</th>\n",
              "      <th>PRI_lep_eta</th>\n",
              "      <th>PRI_lep_phi</th>\n",
              "      <th>PRI_met</th>\n",
              "      <th>PRI_met_phi</th>\n",
              "      <th>PRI_met_sumet</th>\n",
              "      <th>PRI_jet_num</th>\n",
              "      <th>PRI_jet_leading_pt</th>\n",
              "      <th>PRI_jet_leading_eta</th>\n",
              "      <th>PRI_jet_leading_phi</th>\n",
              "      <th>PRI_jet_subleading_pt</th>\n",
              "      <th>PRI_jet_subleading_eta</th>\n",
              "      <th>PRI_jet_subleading_phi</th>\n",
              "      <th>PRI_jet_all_pt</th>\n",
              "      <th>Weight</th>\n",
              "      <th>Label</th>\n",
              "    </tr>\n",
              "  </thead>\n",
              "  <tbody>\n",
              "    <tr>\n",
              "      <th>249997</th>\n",
              "      <td>349997</td>\n",
              "      <td>105.457</td>\n",
              "      <td>60.526</td>\n",
              "      <td>75.839</td>\n",
              "      <td>39.757</td>\n",
              "      <td>-999.0</td>\n",
              "      <td>-999.0</td>\n",
              "      <td>-999.0</td>\n",
              "      <td>2.390</td>\n",
              "      <td>22.183</td>\n",
              "      <td>120.462</td>\n",
              "      <td>1.202</td>\n",
              "      <td>0.529</td>\n",
              "      <td>-999.0</td>\n",
              "      <td>35.636</td>\n",
              "      <td>-0.266</td>\n",
              "      <td>-3.132</td>\n",
              "      <td>42.834</td>\n",
              "      <td>0.381</td>\n",
              "      <td>0.851</td>\n",
              "      <td>23.419</td>\n",
              "      <td>-2.890</td>\n",
              "      <td>198.907</td>\n",
              "      <td>1</td>\n",
              "      <td>41.992</td>\n",
              "      <td>1.8</td>\n",
              "      <td>-0.166</td>\n",
              "      <td>-999.0</td>\n",
              "      <td>-999.0</td>\n",
              "      <td>-999.0</td>\n",
              "      <td>41.992</td>\n",
              "      <td>0.018636</td>\n",
              "      <td>s</td>\n",
              "    </tr>\n",
              "    <tr>\n",
              "      <th>249998</th>\n",
              "      <td>349998</td>\n",
              "      <td>94.951</td>\n",
              "      <td>19.362</td>\n",
              "      <td>68.812</td>\n",
              "      <td>13.504</td>\n",
              "      <td>-999.0</td>\n",
              "      <td>-999.0</td>\n",
              "      <td>-999.0</td>\n",
              "      <td>3.365</td>\n",
              "      <td>13.504</td>\n",
              "      <td>55.859</td>\n",
              "      <td>0.999</td>\n",
              "      <td>1.414</td>\n",
              "      <td>-999.0</td>\n",
              "      <td>27.944</td>\n",
              "      <td>-2.211</td>\n",
              "      <td>2.792</td>\n",
              "      <td>27.915</td>\n",
              "      <td>-0.874</td>\n",
              "      <td>-0.296</td>\n",
              "      <td>12.150</td>\n",
              "      <td>0.811</td>\n",
              "      <td>112.718</td>\n",
              "      <td>0</td>\n",
              "      <td>-999.000</td>\n",
              "      <td>-999.0</td>\n",
              "      <td>-999.000</td>\n",
              "      <td>-999.0</td>\n",
              "      <td>-999.0</td>\n",
              "      <td>-999.0</td>\n",
              "      <td>0.000</td>\n",
              "      <td>1.681611</td>\n",
              "      <td>b</td>\n",
              "    </tr>\n",
              "    <tr>\n",
              "      <th>249999</th>\n",
              "      <td>349999</td>\n",
              "      <td>-999.000</td>\n",
              "      <td>72.756</td>\n",
              "      <td>70.831</td>\n",
              "      <td>7.479</td>\n",
              "      <td>-999.0</td>\n",
              "      <td>-999.0</td>\n",
              "      <td>-999.0</td>\n",
              "      <td>2.025</td>\n",
              "      <td>7.479</td>\n",
              "      <td>83.240</td>\n",
              "      <td>0.936</td>\n",
              "      <td>-1.411</td>\n",
              "      <td>-999.0</td>\n",
              "      <td>43.003</td>\n",
              "      <td>1.685</td>\n",
              "      <td>2.653</td>\n",
              "      <td>40.236</td>\n",
              "      <td>1.490</td>\n",
              "      <td>0.637</td>\n",
              "      <td>40.729</td>\n",
              "      <td>-1.596</td>\n",
              "      <td>99.405</td>\n",
              "      <td>0</td>\n",
              "      <td>-999.000</td>\n",
              "      <td>-999.0</td>\n",
              "      <td>-999.000</td>\n",
              "      <td>-999.0</td>\n",
              "      <td>-999.0</td>\n",
              "      <td>-999.0</td>\n",
              "      <td>0.000</td>\n",
              "      <td>1.877474</td>\n",
              "      <td>b</td>\n",
              "    </tr>\n",
              "  </tbody>\n",
              "</table>\n",
              "</div>"
            ],
            "text/plain": [
              "        EventId  DER_mass_MMC  ...    Weight  Label\n",
              "249997   349997       105.457  ...  0.018636      s\n",
              "249998   349998        94.951  ...  1.681611      b\n",
              "249999   349999      -999.000  ...  1.877474      b\n",
              "\n",
              "[3 rows x 33 columns]"
            ]
          },
          "metadata": {}
        }
      ]
    },
    {
      "cell_type": "code",
      "metadata": {
        "colab": {
          "base_uri": "https://localhost:8080/"
        },
        "id": "ETwG0-erDz9s",
        "outputId": "4d883e79-2c48-401f-daf9-50d0aabcb115"
      },
      "source": [
        "Higgs.shape"
      ],
      "execution_count": 7,
      "outputs": [
        {
          "output_type": "execute_result",
          "data": {
            "text/plain": [
              "(250000, 33)"
            ]
          },
          "metadata": {},
          "execution_count": 7
        }
      ]
    },
    {
      "cell_type": "code",
      "metadata": {
        "id": "7dOmgx64Dz8o"
      },
      "source": [
        "original = Higgs.copy()"
      ],
      "execution_count": 8,
      "outputs": []
    },
    {
      "cell_type": "markdown",
      "metadata": {
        "id": "jRrXBbs1SrJD"
      },
      "source": [
        "#### **4) Feature Engineering**"
      ]
    },
    {
      "cell_type": "code",
      "metadata": {
        "id": "7FBr0YP4sNos"
      },
      "source": [
        "Higgs.drop('EventId', axis=1, inplace=True)"
      ],
      "execution_count": 9,
      "outputs": []
    },
    {
      "cell_type": "markdown",
      "metadata": {
        "id": "3yOwgWoDSrHU"
      },
      "source": [
        "#### **4.1) Missing Values**"
      ]
    },
    {
      "cell_type": "code",
      "metadata": {
        "colab": {
          "base_uri": "https://localhost:8080/"
        },
        "id": "ZRKU-pHaSxEU",
        "outputId": "b296329e-bb52-49f8-e3bd-dc1e666a7b1d"
      },
      "source": [
        "# Listing Number of missing values by feature column wise\n",
        "total = Higgs.isnull().sum().sort_values(ascending=False)\n",
        "total = total[total > 0]\n",
        "total"
      ],
      "execution_count": 10,
      "outputs": [
        {
          "output_type": "execute_result",
          "data": {
            "text/plain": [
              "Series([], dtype: int64)"
            ]
          },
          "metadata": {},
          "execution_count": 10
        }
      ]
    },
    {
      "cell_type": "code",
      "metadata": {
        "colab": {
          "base_uri": "https://localhost:8080/"
        },
        "id": "8Bq79zFzS5JE",
        "outputId": "eba70186-d5d1-4ca9-af48-a602b772ef44"
      },
      "source": [
        "Higgs.isnull().sum().sum()"
      ],
      "execution_count": 11,
      "outputs": [
        {
          "output_type": "execute_result",
          "data": {
            "text/plain": [
              "0"
            ]
          },
          "metadata": {},
          "execution_count": 11
        }
      ]
    },
    {
      "cell_type": "markdown",
      "metadata": {
        "id": "Kd5RbOyqTJGH"
      },
      "source": [
        "### **6) Modelling** "
      ]
    },
    {
      "cell_type": "code",
      "metadata": {
        "colab": {
          "base_uri": "https://localhost:8080/",
          "height": 202
        },
        "id": "a4-i52HKMfHr",
        "outputId": "7f439a6f-714a-4fd0-e640-aa2a635b0c48"
      },
      "source": [
        "feature_columns = ['DER_mass_MMC', 'DER_mass_transverse_met_lep', 'DER_mass_vis', 'DER_deltar_tau_lep', 'PRI_tau_pt', 'DER_met_phi_centrality', 'DER_pt_h', 'PRI_met']\n",
        "\n",
        "df = pd.DataFrame(Higgs, columns = feature_columns)\n",
        "df.head()"
      ],
      "execution_count": 12,
      "outputs": [
        {
          "output_type": "execute_result",
          "data": {
            "text/html": [
              "<div>\n",
              "<style scoped>\n",
              "    .dataframe tbody tr th:only-of-type {\n",
              "        vertical-align: middle;\n",
              "    }\n",
              "\n",
              "    .dataframe tbody tr th {\n",
              "        vertical-align: top;\n",
              "    }\n",
              "\n",
              "    .dataframe thead th {\n",
              "        text-align: right;\n",
              "    }\n",
              "</style>\n",
              "<table border=\"1\" class=\"dataframe\">\n",
              "  <thead>\n",
              "    <tr style=\"text-align: right;\">\n",
              "      <th></th>\n",
              "      <th>DER_mass_MMC</th>\n",
              "      <th>DER_mass_transverse_met_lep</th>\n",
              "      <th>DER_mass_vis</th>\n",
              "      <th>DER_deltar_tau_lep</th>\n",
              "      <th>PRI_tau_pt</th>\n",
              "      <th>DER_met_phi_centrality</th>\n",
              "      <th>DER_pt_h</th>\n",
              "      <th>PRI_met</th>\n",
              "    </tr>\n",
              "  </thead>\n",
              "  <tbody>\n",
              "    <tr>\n",
              "      <th>0</th>\n",
              "      <td>138.470</td>\n",
              "      <td>51.655</td>\n",
              "      <td>97.827</td>\n",
              "      <td>3.064</td>\n",
              "      <td>32.638</td>\n",
              "      <td>1.396</td>\n",
              "      <td>27.980</td>\n",
              "      <td>16.824</td>\n",
              "    </tr>\n",
              "    <tr>\n",
              "      <th>1</th>\n",
              "      <td>160.937</td>\n",
              "      <td>68.768</td>\n",
              "      <td>103.235</td>\n",
              "      <td>3.473</td>\n",
              "      <td>42.014</td>\n",
              "      <td>1.414</td>\n",
              "      <td>48.146</td>\n",
              "      <td>44.704</td>\n",
              "    </tr>\n",
              "    <tr>\n",
              "      <th>2</th>\n",
              "      <td>-999.000</td>\n",
              "      <td>162.172</td>\n",
              "      <td>125.953</td>\n",
              "      <td>3.148</td>\n",
              "      <td>32.154</td>\n",
              "      <td>1.414</td>\n",
              "      <td>35.635</td>\n",
              "      <td>54.283</td>\n",
              "    </tr>\n",
              "    <tr>\n",
              "      <th>3</th>\n",
              "      <td>143.905</td>\n",
              "      <td>81.417</td>\n",
              "      <td>80.943</td>\n",
              "      <td>3.310</td>\n",
              "      <td>22.647</td>\n",
              "      <td>-1.285</td>\n",
              "      <td>0.414</td>\n",
              "      <td>31.082</td>\n",
              "    </tr>\n",
              "    <tr>\n",
              "      <th>4</th>\n",
              "      <td>175.864</td>\n",
              "      <td>16.915</td>\n",
              "      <td>134.805</td>\n",
              "      <td>3.891</td>\n",
              "      <td>28.209</td>\n",
              "      <td>-1.385</td>\n",
              "      <td>16.405</td>\n",
              "      <td>2.723</td>\n",
              "    </tr>\n",
              "  </tbody>\n",
              "</table>\n",
              "</div>"
            ],
            "text/plain": [
              "   DER_mass_MMC  DER_mass_transverse_met_lep  ...  DER_pt_h  PRI_met\n",
              "0       138.470                       51.655  ...    27.980   16.824\n",
              "1       160.937                       68.768  ...    48.146   44.704\n",
              "2      -999.000                      162.172  ...    35.635   54.283\n",
              "3       143.905                       81.417  ...     0.414   31.082\n",
              "4       175.864                       16.915  ...    16.405    2.723\n",
              "\n",
              "[5 rows x 8 columns]"
            ]
          },
          "metadata": {},
          "execution_count": 12
        }
      ]
    },
    {
      "cell_type": "code",
      "metadata": {
        "colab": {
          "base_uri": "https://localhost:8080/"
        },
        "id": "-_YlevZpOV7S",
        "outputId": "dfba6840-48cf-4120-ccd1-9f95ce39c260"
      },
      "source": [
        "(df == -999.0).sum(axis=0)"
      ],
      "execution_count": 13,
      "outputs": [
        {
          "output_type": "execute_result",
          "data": {
            "text/plain": [
              "DER_mass_MMC                   38114\n",
              "DER_mass_transverse_met_lep        0\n",
              "DER_mass_vis                       0\n",
              "DER_deltar_tau_lep                 0\n",
              "PRI_tau_pt                         0\n",
              "DER_met_phi_centrality             0\n",
              "DER_pt_h                           0\n",
              "PRI_met                            0\n",
              "dtype: int64"
            ]
          },
          "metadata": {},
          "execution_count": 13
        }
      ]
    },
    {
      "cell_type": "code",
      "metadata": {
        "colab": {
          "base_uri": "https://localhost:8080/"
        },
        "id": "ec0u-uAJjEtG",
        "outputId": "c1391058-ba54-46ce-e598-3fdc47a5fb0c"
      },
      "source": [
        "(df == 0).sum(axis=0)"
      ],
      "execution_count": 14,
      "outputs": [
        {
          "output_type": "execute_result",
          "data": {
            "text/plain": [
              "DER_mass_MMC                    0\n",
              "DER_mass_transverse_met_lep     3\n",
              "DER_mass_vis                    0\n",
              "DER_deltar_tau_lep              0\n",
              "PRI_tau_pt                      0\n",
              "DER_met_phi_centrality         53\n",
              "DER_pt_h                       41\n",
              "PRI_met                         0\n",
              "dtype: int64"
            ]
          },
          "metadata": {},
          "execution_count": 14
        }
      ]
    },
    {
      "cell_type": "markdown",
      "metadata": {
        "id": "pJQChIm19EOe"
      },
      "source": [
        "df['DER_mass_transverse_met_lep'] = df['DER_mass_transverse_met_lep'].replace(0, 46.523)\n",
        "\n",
        "df['DER_met_phi_centrality'] = df['DER_met_phi_centrality'].replace(0, -0.356)\n",
        "\n",
        "df['DER_pt_h'] = df['DER_pt_h'].replace(0, 38.467)"
      ]
    },
    {
      "cell_type": "markdown",
      "metadata": {
        "id": "7ezmDjTr9PoV"
      },
      "source": [
        "#### **Replace -999.0 & 0's with NaN and fill with median**"
      ]
    },
    {
      "cell_type": "code",
      "metadata": {
        "id": "6WRRIg3B6xbr"
      },
      "source": [
        "df['DER_mass_MMC'] = df['DER_mass_MMC'].replace(-999.0, np.nan)"
      ],
      "execution_count": 15,
      "outputs": []
    },
    {
      "cell_type": "code",
      "metadata": {
        "id": "t6Pt0q5E-lzm"
      },
      "source": [
        "df['DER_mass_MMC'] = df['DER_mass_MMC'].fillna(df['DER_mass_MMC'].median())"
      ],
      "execution_count": 16,
      "outputs": []
    },
    {
      "cell_type": "code",
      "metadata": {
        "id": "P8Pj0F2u5zMC"
      },
      "source": [
        "cols = [\"DER_mass_transverse_met_lep\", \"DER_met_phi_centrality\", \"DER_pt_h\"]\n",
        " \n",
        "df[cols] = df[cols].replace(['0', 0], np.nan)"
      ],
      "execution_count": 17,
      "outputs": []
    },
    {
      "cell_type": "code",
      "metadata": {
        "id": "RxOEI1Wo7dIM"
      },
      "source": [
        "df['DER_mass_transverse_met_lep'] = df['DER_mass_transverse_met_lep'].fillna(df['DER_mass_transverse_met_lep'].median())\n",
        "df['DER_met_phi_centrality'] = df['DER_met_phi_centrality'].fillna(df['DER_met_phi_centrality'].median())\n",
        "df['DER_pt_h'] = df['DER_pt_h'].fillna(df['DER_pt_h'].median())"
      ],
      "execution_count": 18,
      "outputs": []
    },
    {
      "cell_type": "code",
      "metadata": {
        "colab": {
          "base_uri": "https://localhost:8080/"
        },
        "id": "sj0YMI4N8jLl",
        "outputId": "34452d0e-0b46-4dcf-c002-db49bd751c28"
      },
      "source": [
        "(df == -999.0).sum(axis=0)"
      ],
      "execution_count": 19,
      "outputs": [
        {
          "output_type": "execute_result",
          "data": {
            "text/plain": [
              "DER_mass_MMC                   0\n",
              "DER_mass_transverse_met_lep    0\n",
              "DER_mass_vis                   0\n",
              "DER_deltar_tau_lep             0\n",
              "PRI_tau_pt                     0\n",
              "DER_met_phi_centrality         0\n",
              "DER_pt_h                       0\n",
              "PRI_met                        0\n",
              "dtype: int64"
            ]
          },
          "metadata": {},
          "execution_count": 19
        }
      ]
    },
    {
      "cell_type": "code",
      "metadata": {
        "colab": {
          "base_uri": "https://localhost:8080/"
        },
        "id": "QY4REvkA8jKf",
        "outputId": "8d2017b3-45b7-41b7-e505-9ed65f4c7ef4"
      },
      "source": [
        "(df == 0).sum(axis=0)"
      ],
      "execution_count": 20,
      "outputs": [
        {
          "output_type": "execute_result",
          "data": {
            "text/plain": [
              "DER_mass_MMC                   0\n",
              "DER_mass_transverse_met_lep    0\n",
              "DER_mass_vis                   0\n",
              "DER_deltar_tau_lep             0\n",
              "PRI_tau_pt                     0\n",
              "DER_met_phi_centrality         0\n",
              "DER_pt_h                       0\n",
              "PRI_met                        0\n",
              "dtype: int64"
            ]
          },
          "metadata": {},
          "execution_count": 20
        }
      ]
    },
    {
      "cell_type": "code",
      "metadata": {
        "id": "hHIJwpJnj2nL"
      },
      "source": [
        "Higgs['Label'] = Higgs['Label'].map({'b':1, 's':0})"
      ],
      "execution_count": 21,
      "outputs": []
    },
    {
      "cell_type": "code",
      "metadata": {
        "id": "6sdtjgekTKRq"
      },
      "source": [
        "X = df\n",
        "y = Higgs['Label']"
      ],
      "execution_count": 22,
      "outputs": []
    },
    {
      "cell_type": "code",
      "metadata": {
        "id": "iw4LU3BcT3cF"
      },
      "source": [
        "X_train, X_test, y_train, y_test = train_test_split(X, y, test_size=0.2, random_state=0)"
      ],
      "execution_count": 23,
      "outputs": []
    },
    {
      "cell_type": "code",
      "metadata": {
        "colab": {
          "base_uri": "https://localhost:8080/"
        },
        "id": "ZwPtfDLD7XIo",
        "outputId": "76d04842-81e2-474b-b3f9-264e132aab1d"
      },
      "source": [
        "print(X_train.shape)\n",
        "print(y_train.shape)\n",
        "print(X_test.shape)\n",
        "print(y_test.shape)"
      ],
      "execution_count": 24,
      "outputs": [
        {
          "output_type": "stream",
          "text": [
            "(200000, 8)\n",
            "(200000,)\n",
            "(50000, 8)\n",
            "(50000,)\n"
          ],
          "name": "stdout"
        }
      ]
    },
    {
      "cell_type": "markdown",
      "metadata": {
        "id": "0ZGrGZzVUsYy"
      },
      "source": [
        "### **6.2) XGBoost**"
      ]
    },
    {
      "cell_type": "markdown",
      "metadata": {
        "id": "lqQbqMSCSTgH"
      },
      "source": [
        "#### **Base Model**"
      ]
    },
    {
      "cell_type": "code",
      "metadata": {
        "colab": {
          "base_uri": "https://localhost:8080/"
        },
        "id": "kO04mgRvUOcN",
        "outputId": "3d49a34a-1ecb-4590-e5f4-11a3842f7269"
      },
      "source": [
        "xgb = XGBClassifier()\n",
        "xgb.fit(X_train, y_train)"
      ],
      "execution_count": 25,
      "outputs": [
        {
          "output_type": "execute_result",
          "data": {
            "text/plain": [
              "XGBClassifier(base_score=0.5, booster='gbtree', colsample_bylevel=1,\n",
              "              colsample_bynode=1, colsample_bytree=1, gamma=0,\n",
              "              learning_rate=0.1, max_delta_step=0, max_depth=3,\n",
              "              min_child_weight=1, missing=None, n_estimators=100, n_jobs=1,\n",
              "              nthread=None, objective='binary:logistic', random_state=0,\n",
              "              reg_alpha=0, reg_lambda=1, scale_pos_weight=1, seed=None,\n",
              "              silent=None, subsample=1, verbosity=1)"
            ]
          },
          "metadata": {},
          "execution_count": 25
        }
      ]
    },
    {
      "cell_type": "code",
      "metadata": {
        "id": "jAtE54CCU1-e"
      },
      "source": [
        "# make predictions for test set\n",
        "y_pred_xgb = xgb.predict(X_test)\n",
        "predictions = [round(value) for value in y_pred_xgb]"
      ],
      "execution_count": 26,
      "outputs": []
    },
    {
      "cell_type": "code",
      "metadata": {
        "colab": {
          "base_uri": "https://localhost:8080/"
        },
        "id": "gcO_PKXWU1j-",
        "outputId": "56230f58-f615-4416-dfc6-4adf4537c143"
      },
      "source": [
        "print(\"XGBoost : Train Score {:.2f} & Test Score {:.2f}\".format(xgb.score(X_train, y_train), xgb.score(X_test, y_test)))\n",
        "print('-'*70)\n",
        "print(\"\\n\\nConfusion matrix \\n\\n\", confusion_matrix(y_test, y_pred_xgb))\n",
        "print('-'*70)\n",
        "print(\"\\n\\nClassification Report\\n\\n\", classification_report(y_test, y_pred_xgb))"
      ],
      "execution_count": 27,
      "outputs": [
        {
          "output_type": "stream",
          "text": [
            "XGBoost : Train Score 0.82 & Test Score 0.82\n",
            "----------------------------------------------------------------------\n",
            "\n",
            "\n",
            "Confusion matrix \n",
            "\n",
            " [[11885  5244]\n",
            " [ 3640 29231]]\n",
            "----------------------------------------------------------------------\n",
            "\n",
            "\n",
            "Classification Report\n",
            "\n",
            "               precision    recall  f1-score   support\n",
            "\n",
            "           0       0.77      0.69      0.73     17129\n",
            "           1       0.85      0.89      0.87     32871\n",
            "\n",
            "    accuracy                           0.82     50000\n",
            "   macro avg       0.81      0.79      0.80     50000\n",
            "weighted avg       0.82      0.82      0.82     50000\n",
            "\n"
          ],
          "name": "stdout"
        }
      ]
    },
    {
      "cell_type": "markdown",
      "metadata": {
        "id": "TbbazAwUSYYW"
      },
      "source": [
        "#### **Hyperparameter Tuning: 1**"
      ]
    },
    {
      "cell_type": "code",
      "metadata": {
        "colab": {
          "base_uri": "https://localhost:8080/"
        },
        "id": "LaGN2o3ERWAN",
        "outputId": "ea5c4342-0d2e-40bb-9cb2-914e36ec2dc6"
      },
      "source": [
        "xgb1 = XGBClassifier(max_depth=5, n_estimators=100, min_samples_leaf = 200, max_features = 10, learning_rate = 0.5)\n",
        "xgb1.fit(X_train, y_train)"
      ],
      "execution_count": 28,
      "outputs": [
        {
          "output_type": "execute_result",
          "data": {
            "text/plain": [
              "XGBClassifier(base_score=0.5, booster='gbtree', colsample_bylevel=1,\n",
              "              colsample_bynode=1, colsample_bytree=1, gamma=0,\n",
              "              learning_rate=0.5, max_delta_step=0, max_depth=5, max_features=10,\n",
              "              min_child_weight=1, min_samples_leaf=200, missing=None,\n",
              "              n_estimators=100, n_jobs=1, nthread=None,\n",
              "              objective='binary:logistic', random_state=0, reg_alpha=0,\n",
              "              reg_lambda=1, scale_pos_weight=1, seed=None, silent=None,\n",
              "              subsample=1, verbosity=1)"
            ]
          },
          "metadata": {},
          "execution_count": 28
        }
      ]
    },
    {
      "cell_type": "code",
      "metadata": {
        "id": "sH6kaPtpRV_N"
      },
      "source": [
        "# make predictions for test set\n",
        "y_pred_xgb1 = xgb1.predict(X_test)\n",
        "predictions1 = [round(value) for value in y_pred_xgb1]"
      ],
      "execution_count": 29,
      "outputs": []
    },
    {
      "cell_type": "code",
      "metadata": {
        "colab": {
          "base_uri": "https://localhost:8080/"
        },
        "id": "jR_X8n3IRhjs",
        "outputId": "aad7f59c-31df-4507-a416-ce645a6f378c"
      },
      "source": [
        "print(\"XGBoost : Train Score {:.2f} & Test Score {:.2f}\".format(xgb1.score(X_train, y_train), xgb1.score(X_test, y_test)))\n",
        "print('-'*70)\n",
        "print(\"\\n\\nConfusion matrix \\n\\n\", confusion_matrix(y_test, y_pred_xgb1))\n",
        "print('-'*70)\n",
        "print(\"\\n\\nClassification Report\\n\\n\", classification_report(y_test, y_pred_xgb1))"
      ],
      "execution_count": 30,
      "outputs": [
        {
          "output_type": "stream",
          "text": [
            "XGBoost : Train Score 0.84 & Test Score 0.82\n",
            "----------------------------------------------------------------------\n",
            "\n",
            "\n",
            "Confusion matrix \n",
            "\n",
            " [[12150  4979]\n",
            " [ 3796 29075]]\n",
            "----------------------------------------------------------------------\n",
            "\n",
            "\n",
            "Classification Report\n",
            "\n",
            "               precision    recall  f1-score   support\n",
            "\n",
            "           0       0.76      0.71      0.73     17129\n",
            "           1       0.85      0.88      0.87     32871\n",
            "\n",
            "    accuracy                           0.82     50000\n",
            "   macro avg       0.81      0.80      0.80     50000\n",
            "weighted avg       0.82      0.82      0.82     50000\n",
            "\n"
          ],
          "name": "stdout"
        }
      ]
    },
    {
      "cell_type": "markdown",
      "metadata": {
        "id": "dlVRcwvvSibf"
      },
      "source": [
        "#### **Hyperparameter Tuning: 2**"
      ]
    },
    {
      "cell_type": "code",
      "metadata": {
        "colab": {
          "base_uri": "https://localhost:8080/"
        },
        "id": "JvjXgygUR189",
        "outputId": "5168075a-0dfe-490f-9668-338c059c18f7"
      },
      "source": [
        "xgb2 = XGBClassifier(max_depth=6, n_estimators=120, learning_rate = 0.1)\n",
        "xgb2.fit(X_train, y_train)"
      ],
      "execution_count": 31,
      "outputs": [
        {
          "output_type": "execute_result",
          "data": {
            "text/plain": [
              "XGBClassifier(base_score=0.5, booster='gbtree', colsample_bylevel=1,\n",
              "              colsample_bynode=1, colsample_bytree=1, gamma=0,\n",
              "              learning_rate=0.1, max_delta_step=0, max_depth=6,\n",
              "              min_child_weight=1, missing=None, n_estimators=120, n_jobs=1,\n",
              "              nthread=None, objective='binary:logistic', random_state=0,\n",
              "              reg_alpha=0, reg_lambda=1, scale_pos_weight=1, seed=None,\n",
              "              silent=None, subsample=1, verbosity=1)"
            ]
          },
          "metadata": {},
          "execution_count": 31
        }
      ]
    },
    {
      "cell_type": "code",
      "metadata": {
        "id": "QXH6qcO7R_D8"
      },
      "source": [
        "# make predictions for test set\n",
        "y_pred_xgb2 = xgb2.predict(X_test)\n",
        "predictions2 = [round(value) for value in y_pred_xgb2]"
      ],
      "execution_count": 32,
      "outputs": []
    },
    {
      "cell_type": "code",
      "metadata": {
        "colab": {
          "base_uri": "https://localhost:8080/"
        },
        "id": "HzTnjZpoR-3W",
        "outputId": "38570d67-8b37-4742-fcbc-18ad0f4d8cd6"
      },
      "source": [
        "print(\"XGBoost : Train Score {:.2f} & Test Score {:.2f}\".format(xgb2.score(X_train, y_train), xgb2.score(X_test, y_test)))\n",
        "print('-'*70)\n",
        "print(\"\\n\\nConfusion matrix \\n\\n\", confusion_matrix(y_test, y_pred_xgb2))\n",
        "print('-'*70)\n",
        "print(\"\\n\\nClassification Report\\n\\n\", classification_report(y_test, y_pred_xgb2))"
      ],
      "execution_count": 33,
      "outputs": [
        {
          "output_type": "stream",
          "text": [
            "XGBoost : Train Score 0.83 & Test Score 0.83\n",
            "----------------------------------------------------------------------\n",
            "\n",
            "\n",
            "Confusion matrix \n",
            "\n",
            " [[12052  5077]\n",
            " [ 3597 29274]]\n",
            "----------------------------------------------------------------------\n",
            "\n",
            "\n",
            "Classification Report\n",
            "\n",
            "               precision    recall  f1-score   support\n",
            "\n",
            "           0       0.77      0.70      0.74     17129\n",
            "           1       0.85      0.89      0.87     32871\n",
            "\n",
            "    accuracy                           0.83     50000\n",
            "   macro avg       0.81      0.80      0.80     50000\n",
            "weighted avg       0.82      0.83      0.82     50000\n",
            "\n"
          ],
          "name": "stdout"
        }
      ]
    },
    {
      "cell_type": "markdown",
      "metadata": {
        "id": "CbWjmo9MVJqe"
      },
      "source": [
        "### **6.3) LGBM**"
      ]
    },
    {
      "cell_type": "code",
      "metadata": {
        "colab": {
          "base_uri": "https://localhost:8080/"
        },
        "id": "MJKJqjbDVIPn",
        "outputId": "1f160bb1-be23-4bc9-ddd3-2b7dfefc423d"
      },
      "source": [
        "LGB = LGBMClassifier()\n",
        "LGB.fit(X_train, y_train)"
      ],
      "execution_count": 34,
      "outputs": [
        {
          "output_type": "execute_result",
          "data": {
            "text/plain": [
              "LGBMClassifier(boosting_type='gbdt', class_weight=None, colsample_bytree=1.0,\n",
              "               importance_type='split', learning_rate=0.1, max_depth=-1,\n",
              "               min_child_samples=20, min_child_weight=0.001, min_split_gain=0.0,\n",
              "               n_estimators=100, n_jobs=-1, num_leaves=31, objective=None,\n",
              "               random_state=None, reg_alpha=0.0, reg_lambda=0.0, silent=True,\n",
              "               subsample=1.0, subsample_for_bin=200000, subsample_freq=0)"
            ]
          },
          "metadata": {},
          "execution_count": 34
        }
      ]
    },
    {
      "cell_type": "code",
      "metadata": {
        "id": "h5peIrpQVIOm"
      },
      "source": [
        "y_pred_LGB = LGB.predict(X_test)"
      ],
      "execution_count": 35,
      "outputs": []
    },
    {
      "cell_type": "code",
      "metadata": {
        "colab": {
          "base_uri": "https://localhost:8080/"
        },
        "id": "UL18WA42VSJA",
        "outputId": "007e9c19-2a45-4e6e-e669-437de878c6b8"
      },
      "source": [
        "print(\"XGBoost : Train Score {:.2f} & Test Score {:.2f}\".format(LGB.score(X_train, y_train), LGB.score(X_test, y_test)))\n",
        "print('-'*70)\n",
        "print(\"\\n\\nConfusion matrix \\n\\n\",confusion_matrix(y_test, y_pred_LGB))\n",
        "print('-'*70)\n",
        "print(\"\\n\\nClassification Report\\n\\n\",classification_report(y_test, y_pred_LGB))"
      ],
      "execution_count": 36,
      "outputs": [
        {
          "output_type": "stream",
          "text": [
            "XGBoost : Train Score 0.83 & Test Score 0.83\n",
            "----------------------------------------------------------------------\n",
            "\n",
            "\n",
            "Confusion matrix \n",
            "\n",
            " [[12080  5049]\n",
            " [ 3595 29276]]\n",
            "----------------------------------------------------------------------\n",
            "\n",
            "\n",
            "Classification Report\n",
            "\n",
            "               precision    recall  f1-score   support\n",
            "\n",
            "           0       0.77      0.71      0.74     17129\n",
            "           1       0.85      0.89      0.87     32871\n",
            "\n",
            "    accuracy                           0.83     50000\n",
            "   macro avg       0.81      0.80      0.80     50000\n",
            "weighted avg       0.82      0.83      0.83     50000\n",
            "\n"
          ],
          "name": "stdout"
        }
      ]
    },
    {
      "cell_type": "markdown",
      "metadata": {
        "id": "DwkzZd_unhgS"
      },
      "source": [
        "### **Saving Files**"
      ]
    },
    {
      "cell_type": "code",
      "metadata": {
        "id": "-4dKxjXvnG-H"
      },
      "source": [
        "import joblib\n",
        "\n",
        "with open(\"model.joblib\", 'wb') as model:\n",
        "    joblib.dump(LGB, model, compress=1)"
      ],
      "execution_count": 37,
      "outputs": []
    },
    {
      "cell_type": "code",
      "metadata": {
        "id": "Fi5-Wa3UnxVn"
      },
      "source": [
        "with open(\"features.joblib\", 'wb') as ft:\n",
        "    joblib.dump(feature_columns, ft, compress=1)"
      ],
      "execution_count": 38,
      "outputs": []
    },
    {
      "cell_type": "markdown",
      "metadata": {
        "id": "fDFACks7PyTL"
      },
      "source": [
        "### **REFERENCE**"
      ]
    },
    {
      "cell_type": "markdown",
      "metadata": {
        "id": "fqx9QGF5P1l3"
      },
      "source": [
        "- https://github.com/cbracher69/Kaggle-Higgs-Boson-Challenge/blob/master/Higgs%20Linear-Gaussian%20Model%20Archive.ipynb\n",
        "\n",
        "- https://www.kaggle.com/imeintanis/identifying-higgs-boson-t-sne-umap-rapids\n",
        "\n",
        "#### **SHAP**\n",
        "\n",
        "- https://towardsdatascience.com/explainable-ai-xai-with-shap-regression-problem-b2d63fdca670\n",
        "\n",
        "- https://github.com/slundberg/shap\n",
        "\n",
        "- https://shap.readthedocs.io/en/latest/example_notebooks/overviews/An%20introduction%20to%20explainable%20AI%20with%20Shapley%20values.html"
      ]
    }
  ]
}